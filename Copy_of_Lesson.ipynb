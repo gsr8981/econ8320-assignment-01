{
  "cells": [
    {
      "cell_type": "markdown",
      "metadata": {
        "id": "view-in-github",
        "colab_type": "text"
      },
      "source": [
        "<a href=\"https://colab.research.google.com/github/gsr8981/econ8320-assignment-01/blob/main/Copy_of_Lesson.ipynb\" target=\"_parent\"><img src=\"https://colab.research.google.com/assets/colab-badge.svg\" alt=\"Open In Colab\"/></a>"
      ]
    },
    {
      "cell_type": "markdown",
      "id": "49d95ff0-9ba8-41fc-9269-fbaccae2f6a8",
      "metadata": {
        "id": "49d95ff0-9ba8-41fc-9269-fbaccae2f6a8"
      },
      "source": [
        "## Why do I need to know this?\n",
        "\n",
        "Programming is a way to allow us as humans to manipulate information (data) on a scale much larger than we would otherwise be able to handle. Speaking anecdotally, on a good day my brain is able to handle one mathematical operation per second. I can remember a few things at once, and a few more things if I spend a while memorizing them. On the other hand, my laptop can handle millions of mathematical operations per second, and can \"memorize\" the contents of a spreadsheet fast enough that to me it feels instantaneous. When we use Python, we are accessing the amped up computational power provided by our computers to enable us to focus on thinking critically, and letting our computer handle the rest.\n",
        "\n",
        "How do computers handle data? At the most basic level, it all gets digested into the same form: 1s and 0s. Were we to attempt a very complete treatment of information and computation, we would need to start there. Suffice it to say that computers need all information to be concrete, and that information that cannot be quantified or written in a fixed form is no good.\n",
        "\n",
        "Instead of starting with binary values (the 1s and 0s above), we have the privilege of experiencing our interactions with computers through a high-level programming language: Python. High-level is an indication that the programming language is closer to a human-readable form than a computer-readable form. While we are working furiously to do our work writing in Python, the computer is translating everything that we say (in Python) to machine-speak. High-level code is slower to run than low-level (easier for machines to translate) code, but we accept that tradeoff in order to minimize the time and effort we spend in writing our code.\n",
        "\n",
        "Writing Python code is MUCH easier than writing code in just about any other language. Trust me.\n",
        "\n",
        "## Then how do I start?\n",
        "\n",
        "The first thing that we need to understand when we start to interact with Python is the language's ability to represent different kinds of information. The types of information that can be stored, and the ways in which we can store them, inform the choices that we will make as we begin to programmatically handle the information that is available to us. Think of each method of storing information as storage bins like you might find in a kitchen: one bin is intended to hold sugar, another flour, and another rice. Sure, you could insist on putting rice in the sugar bin, but the next chef to use the kitchen might not appreciate your choice. In programming, we should look for the appropriate storage bin for the information that we are dealing with in any specific context\n",
        "\n",
        "In programming, we label the different storage bins **data types**.\n",
        "\n",
        "A data type is an **object** (we will discuss this more later) that is designed to handle a specific kind of information. Let's take a look at a few different types:\n",
        "\n",
        "## Variables\n",
        "\n",
        "In Python, we can work with data as if the Python interpreter (the thing that runs our code) were a fancy calculator, and we can just type all the information we need into the interpreter each time we run code. This is not feasible, however, for larger projects. In those cases, we store information in what are called **variables**.\n",
        "\n",
        "Any data type can be stored as a variable. The names we give these variables are nearly infinite. There are a few rules and guidelines (rules will be bolded) on how we should name them, though:\n",
        "- **Names cannot start with numbers**\n",
        "- Names should be lower case\n",
        "- **Names can include letters, numbers, and underscores**\n",
        "- Names should be descriptive\n",
        "- Names should not be reserved words\n",
        "\n",
        "We store information as a variable in the following way:"
      ]
    },
    {
      "cell_type": "code",
      "execution_count": null,
      "id": "c564b2fa-a255-47a6-b18e-1446e2032cdd",
      "metadata": {
        "id": "c564b2fa-a255-47a6-b18e-1446e2032cdd"
      },
      "outputs": [],
      "source": [
        "mySentence = \"This is my first variable!\""
      ]
    },
    {
      "cell_type": "markdown",
      "id": "b8a05027-9867-41aa-8ed3-9b5a235ea3fd",
      "metadata": {
        "id": "b8a05027-9867-41aa-8ed3-9b5a235ea3fd"
      },
      "source": [
        "We have now indicated to Python that it should remember (until further notice or the end of our program) that `mySentence` is a variable containing the value `\"This is my first variable!\"`. We can ask Python to provide this variable for us as we continue to create code. Outside of exercises, we will not store information as variables during this class period."
      ]
    },
    {
      "cell_type": "markdown",
      "id": "4de02962-98f2-4080-a1fc-ced623b90204",
      "metadata": {
        "id": "4de02962-98f2-4080-a1fc-ced623b90204"
      },
      "source": [
        "## Numbers"
      ]
    },
    {
      "cell_type": "markdown",
      "id": "b09c4ffe-5d3b-4199-8397-89a9908edfad",
      "metadata": {
        "id": "b09c4ffe-5d3b-4199-8397-89a9908edfad"
      },
      "source": [
        "There are several different data types to handle numbers. Let's talk about **integers** and **floating-point numbers**. One really cool thing about Python is that it tries to do the work of switching between integer and floating point numbers for us as we do different calculations requiring one or the other. Let's explore briefly how each one works.\n",
        "\n",
        "### Integers\n",
        "\n",
        "**Integers** represent whole numbers, and _cannot_ represent any number with a decimal. We can perform simple operations using our arithmetic operators (+,-,\\*,\\/)."
      ]
    },
    {
      "cell_type": "code",
      "execution_count": null,
      "id": "ba83388d-6a4e-4863-87b0-32fb9b76af5d",
      "metadata": {
        "id": "ba83388d-6a4e-4863-87b0-32fb9b76af5d"
      },
      "outputs": [],
      "source": [
        "2 + 2"
      ]
    },
    {
      "cell_type": "code",
      "execution_count": null,
      "id": "b2fc2618-573f-4d85-b449-da422b4a84f5",
      "metadata": {
        "id": "b2fc2618-573f-4d85-b449-da422b4a84f5"
      },
      "outputs": [],
      "source": [
        "87 - 10"
      ]
    },
    {
      "cell_type": "code",
      "execution_count": null,
      "id": "e54ed467-ca48-4d70-abf8-6a9a9f3e28d4",
      "metadata": {
        "id": "e54ed467-ca48-4d70-abf8-6a9a9f3e28d4"
      },
      "outputs": [],
      "source": [
        "5 / 1"
      ]
    },
    {
      "cell_type": "code",
      "execution_count": null,
      "id": "032e993e-c148-472c-a5c9-4acae70249fa",
      "metadata": {
        "id": "032e993e-c148-472c-a5c9-4acae70249fa"
      },
      "outputs": [],
      "source": [
        "8 * 3"
      ]
    },
    {
      "cell_type": "markdown",
      "id": "a54f2559-4b7c-4a3d-b53e-5a138602666b",
      "metadata": {
        "id": "a54f2559-4b7c-4a3d-b53e-5a138602666b"
      },
      "source": [
        "It is interesting to note that division resulted in a floating-point number. This allows us to divide integers, even when the result will not be an integer itself, and adds convenience to our mathematical functions. Python also allows us to mandate that the result of division be an integer by using the \\/\\/ operator. Note the different outputs below:"
      ]
    },
    {
      "cell_type": "code",
      "execution_count": null,
      "id": "66c90b49-4a96-4d37-8651-ca222358389d",
      "metadata": {
        "id": "66c90b49-4a96-4d37-8651-ca222358389d",
        "colab": {
          "base_uri": "https://localhost:8080/"
        },
        "outputId": "06962ca4-a18b-447f-d9c2-701053212e37"
      },
      "outputs": [
        {
          "output_type": "execute_result",
          "data": {
            "text/plain": [
              "2.5"
            ]
          },
          "metadata": {},
          "execution_count": 1
        }
      ],
      "source": [
        "# True divison operator\n",
        "5 / 2"
      ]
    },
    {
      "cell_type": "code",
      "execution_count": null,
      "id": "1ccd32a7-07c3-435f-bb45-7d0a0da6b541",
      "metadata": {
        "id": "1ccd32a7-07c3-435f-bb45-7d0a0da6b541",
        "colab": {
          "base_uri": "https://localhost:8080/"
        },
        "outputId": "d0ba65c1-e845-4e81-8206-bfa4ce75bc89"
      },
      "outputs": [
        {
          "output_type": "execute_result",
          "data": {
            "text/plain": [
              "2"
            ]
          },
          "metadata": {},
          "execution_count": 2
        }
      ],
      "source": [
        "# Floor division operator\n",
        "5 // 2"
      ]
    },
    {
      "cell_type": "markdown",
      "id": "9e4d717b-1594-46be-b1e2-ab75522c8b5d",
      "metadata": {
        "id": "9e4d717b-1594-46be-b1e2-ab75522c8b5d"
      },
      "source": [
        "We can also perform exponentiation by using the \\*\\* operator:"
      ]
    },
    {
      "cell_type": "code",
      "execution_count": null,
      "id": "8c8aaaca-a1ff-4a60-b1b3-90ec3ee097cc",
      "metadata": {
        "id": "8c8aaaca-a1ff-4a60-b1b3-90ec3ee097cc"
      },
      "outputs": [],
      "source": [
        "5 ** 2"
      ]
    },
    {
      "cell_type": "markdown",
      "id": "5d83f3be-e424-4510-a55b-34d0a62793d9",
      "metadata": {
        "id": "5d83f3be-e424-4510-a55b-34d0a62793d9"
      },
      "source": [
        "Finally, we can attempt to force values to become integers by using the `int()` command, though not all values can be made into integers:"
      ]
    },
    {
      "cell_type": "code",
      "execution_count": null,
      "id": "a77d9a50-56d3-407c-b004-e7b868fbfe5f",
      "metadata": {
        "id": "a77d9a50-56d3-407c-b004-e7b868fbfe5f",
        "colab": {
          "base_uri": "https://localhost:8080/"
        },
        "outputId": "07230b67-c111-4ef7-872c-d94ae7dedffd"
      },
      "outputs": [
        {
          "output_type": "execute_result",
          "data": {
            "text/plain": [
              "37"
            ]
          },
          "metadata": {},
          "execution_count": 3
        }
      ],
      "source": [
        "int(37.5)"
      ]
    },
    {
      "cell_type": "code",
      "execution_count": null,
      "id": "b9c9231f-f073-4f84-83ca-39848fedeac6",
      "metadata": {
        "id": "b9c9231f-f073-4f84-83ca-39848fedeac6",
        "colab": {
          "base_uri": "https://localhost:8080/"
        },
        "outputId": "38377c50-fcec-4c3f-e0dd-cbd6a9762a73"
      },
      "outputs": [
        {
          "output_type": "execute_result",
          "data": {
            "text/plain": [
              "1"
            ]
          },
          "metadata": {},
          "execution_count": 4
        }
      ],
      "source": [
        "int(True)"
      ]
    },
    {
      "cell_type": "code",
      "execution_count": null,
      "id": "f269eae0-d1ce-411f-b73a-21e1067d5bbc",
      "metadata": {
        "id": "f269eae0-d1ce-411f-b73a-21e1067d5bbc",
        "colab": {
          "base_uri": "https://localhost:8080/"
        },
        "outputId": "cec743bd-ffcf-456f-c971-b7eb73d573e5"
      },
      "outputs": [
        {
          "output_type": "execute_result",
          "data": {
            "text/plain": [
              "0"
            ]
          },
          "metadata": {},
          "execution_count": 5
        }
      ],
      "source": [
        "int(False)"
      ]
    },
    {
      "cell_type": "code",
      "execution_count": null,
      "id": "3cf13aaa-9e29-4c3a-9535-aafeeef97b56",
      "metadata": {
        "id": "3cf13aaa-9e29-4c3a-9535-aafeeef97b56",
        "colab": {
          "base_uri": "https://localhost:8080/",
          "height": 146
        },
        "outputId": "b315a764-8771-48b8-f69b-c7554dea8e17"
      },
      "outputs": [
        {
          "output_type": "error",
          "ename": "ValueError",
          "evalue": "invalid literal for int() with base 10: 'text'",
          "traceback": [
            "\u001b[0;31m---------------------------------------------------------------------------\u001b[0m",
            "\u001b[0;31mValueError\u001b[0m                                Traceback (most recent call last)",
            "\u001b[0;32m<ipython-input-6-f3a57c1fa0db>\u001b[0m in \u001b[0;36m<cell line: 0>\u001b[0;34m()\u001b[0m\n\u001b[0;32m----> 1\u001b[0;31m \u001b[0mint\u001b[0m\u001b[0;34m(\u001b[0m\u001b[0;34m\"text\"\u001b[0m\u001b[0;34m)\u001b[0m\u001b[0;34m\u001b[0m\u001b[0;34m\u001b[0m\u001b[0m\n\u001b[0m",
            "\u001b[0;31mValueError\u001b[0m: invalid literal for int() with base 10: 'text'"
          ]
        }
      ],
      "source": [
        "int(\"text\")"
      ]
    },
    {
      "cell_type": "markdown",
      "id": "786904f8-2e83-4881-b84a-8cdfb6f067ec",
      "metadata": {
        "id": "786904f8-2e83-4881-b84a-8cdfb6f067ec"
      },
      "source": [
        "### Floating-Point Numbers\n",
        "\n",
        "Floating point numbers are typically called **floats**, and allow us to make use of decimal numbers in order to increase the precision of our computations. Floats are probably the most common type of number you will work with, since most mathematical operations cannot be guaranteed to result in integers. Floats can use all of the same arithmetic operators as integers, and can be used in combination with integers when using those operators:"
      ]
    },
    {
      "cell_type": "code",
      "execution_count": null,
      "id": "f76fb3f5-2d02-403a-9991-fc268ee5cf30",
      "metadata": {
        "id": "f76fb3f5-2d02-403a-9991-fc268ee5cf30",
        "colab": {
          "base_uri": "https://localhost:8080/"
        },
        "outputId": "718a495c-6b7a-4a3f-842a-2f4f09703fb6"
      },
      "outputs": [
        {
          "output_type": "execute_result",
          "data": {
            "text/plain": [
              "4.5"
            ]
          },
          "metadata": {},
          "execution_count": 7
        }
      ],
      "source": [
        "2 + 2.5"
      ]
    },
    {
      "cell_type": "code",
      "execution_count": null,
      "id": "ece3a4a2-1c91-4bbb-9df1-a3d5a4bf6e87",
      "metadata": {
        "id": "ece3a4a2-1c91-4bbb-9df1-a3d5a4bf6e87",
        "colab": {
          "base_uri": "https://localhost:8080/"
        },
        "outputId": "dae62813-785c-4977-dfe3-40a09f16604a"
      },
      "outputs": [
        {
          "output_type": "execute_result",
          "data": {
            "text/plain": [
              "-13.5"
            ]
          },
          "metadata": {},
          "execution_count": 9
        }
      ],
      "source": [
        "87.0 - 100.5"
      ]
    },
    {
      "cell_type": "code",
      "execution_count": null,
      "id": "33bca277-06ff-4579-9411-f8efc58ee79f",
      "metadata": {
        "id": "33bca277-06ff-4579-9411-f8efc58ee79f"
      },
      "outputs": [],
      "source": [
        "10 / 3.5"
      ]
    },
    {
      "cell_type": "code",
      "execution_count": null,
      "id": "ab092b21-1c5e-4f1e-9386-2be4860dac60",
      "metadata": {
        "id": "ab092b21-1c5e-4f1e-9386-2be4860dac60"
      },
      "outputs": [],
      "source": [
        "5.3 // 1.2"
      ]
    },
    {
      "cell_type": "code",
      "execution_count": null,
      "id": "ceda5e5e-acc5-49bf-b9b7-53a214bbb1b8",
      "metadata": {
        "id": "ceda5e5e-acc5-49bf-b9b7-53a214bbb1b8"
      },
      "outputs": [],
      "source": [
        "9.99 * 5"
      ]
    },
    {
      "cell_type": "code",
      "execution_count": null,
      "id": "703f9353-c637-461a-90e6-fee576233a52",
      "metadata": {
        "id": "703f9353-c637-461a-90e6-fee576233a52"
      },
      "outputs": [],
      "source": [
        "3.1415 ** 2"
      ]
    },
    {
      "cell_type": "markdown",
      "id": "36ee6b4f-402e-4b71-b356-58e82826727d",
      "metadata": {
        "id": "36ee6b4f-402e-4b71-b356-58e82826727d"
      },
      "source": [
        "We can convert numbers and other values to floats by using the `float()` function to **coerce** the value to become a float-type object:"
      ]
    },
    {
      "cell_type": "code",
      "execution_count": null,
      "id": "ce7f13df-225b-4d87-a600-b58dde52c7ac",
      "metadata": {
        "id": "ce7f13df-225b-4d87-a600-b58dde52c7ac",
        "colab": {
          "base_uri": "https://localhost:8080/"
        },
        "outputId": "1675d276-f859-4ea4-d414-aba83fbeae98"
      },
      "outputs": [
        {
          "output_type": "execute_result",
          "data": {
            "text/plain": [
              "1.0"
            ]
          },
          "metadata": {},
          "execution_count": 10
        }
      ],
      "source": [
        "float(1)"
      ]
    },
    {
      "cell_type": "code",
      "execution_count": null,
      "id": "1fa47829-e734-4b2f-8e61-7e54833b5723",
      "metadata": {
        "id": "1fa47829-e734-4b2f-8e61-7e54833b5723",
        "colab": {
          "base_uri": "https://localhost:8080/"
        },
        "outputId": "eab169f1-0049-47fc-ca80-6214e8e51692"
      },
      "outputs": [
        {
          "output_type": "execute_result",
          "data": {
            "text/plain": [
              "0.0"
            ]
          },
          "metadata": {},
          "execution_count": 11
        }
      ],
      "source": [
        "float(False)"
      ]
    },
    {
      "cell_type": "code",
      "execution_count": null,
      "id": "a6ea464e-8320-4fd1-b7cf-8409d11a0993",
      "metadata": {
        "id": "a6ea464e-8320-4fd1-b7cf-8409d11a0993"
      },
      "outputs": [],
      "source": [
        "float(\"text\")"
      ]
    },
    {
      "cell_type": "markdown",
      "id": "6122fdb6-2b78-4846-892b-4e20ed3ad3ae",
      "metadata": {
        "id": "6122fdb6-2b78-4846-892b-4e20ed3ad3ae"
      },
      "source": [
        "### Solve-it!\n",
        "\n",
        "In the cell with the initial comment `#si-sphere`, calculate the volume of a sphere with radius 8. Google the function for calculating the volume of a sphere if needed. PLEASE DO NOT DELETE THE COMMENT OR YOU WILL NOT GET CREDIT.\n",
        "\n",
        "Store the answer in a variable called `vol`. You can test code in the cell below.\n",
        "\n",
        "Note: if you want to check your answer, simply add a line to your script containing `print(vol)`"
      ]
    },
    {
      "cell_type": "code",
      "execution_count": 2,
      "id": "ca7ed994-79ca-4192-957e-f496ff3d85f6",
      "metadata": {
        "colab": {
          "base_uri": "https://localhost:8080/"
        },
        "id": "ca7ed994-79ca-4192-957e-f496ff3d85f6",
        "outputId": "673a76f4-7445-4d72-f7e3-3537685e2e31"
      },
      "outputs": [
        {
          "output_type": "stream",
          "name": "stdout",
          "text": [
            "The volume of the sphere is:  2144.660584850632\n"
          ]
        }
      ],
      "source": [
        "#si-sphere\n",
        "import math\n",
        "rad = 8\n",
        "pi = math.pi\n",
        "vol = (4/3*pi*rad**3)\n",
        "print(\"The volume of the sphere is: \", vol)\n",
        "\n"
      ]
    },
    {
      "cell_type": "markdown",
      "id": "a8207891-984c-41e2-ab44-488a3fd18f3f",
      "metadata": {
        "id": "a8207891-984c-41e2-ab44-488a3fd18f3f"
      },
      "source": [
        "## Boolean Values\n",
        "\n",
        "A boolean object can take one of two values: true or false. This allows us to represent binary cases of truth, and to provide \"on/off\" switches in many different contexts. It is important to note that most objects in Python can be reduced to boolean values:"
      ]
    },
    {
      "cell_type": "code",
      "execution_count": null,
      "id": "90bd1eae-f5f1-4198-95bd-2d41952d2e72",
      "metadata": {
        "id": "90bd1eae-f5f1-4198-95bd-2d41952d2e72",
        "colab": {
          "base_uri": "https://localhost:8080/"
        },
        "outputId": "fc460a29-4866-40b8-b4b8-98532dcc421a"
      },
      "outputs": [
        {
          "output_type": "execute_result",
          "data": {
            "text/plain": [
              "True"
            ]
          },
          "metadata": {},
          "execution_count": 15
        }
      ],
      "source": [
        "bool(1)"
      ]
    },
    {
      "cell_type": "code",
      "execution_count": null,
      "id": "ae40e3bb-7663-4ea7-a753-a7f7d31b41c8",
      "metadata": {
        "id": "ae40e3bb-7663-4ea7-a753-a7f7d31b41c8",
        "colab": {
          "base_uri": "https://localhost:8080/"
        },
        "outputId": "e5a5cb42-4a32-4099-d16e-403b4daf4a17"
      },
      "outputs": [
        {
          "output_type": "execute_result",
          "data": {
            "text/plain": [
              "False"
            ]
          },
          "metadata": {},
          "execution_count": 16
        }
      ],
      "source": [
        "bool(0)"
      ]
    },
    {
      "cell_type": "code",
      "execution_count": null,
      "id": "3523346b-43fe-4b02-8994-d390531748d5",
      "metadata": {
        "id": "3523346b-43fe-4b02-8994-d390531748d5",
        "colab": {
          "base_uri": "https://localhost:8080/"
        },
        "outputId": "32abb810-d80b-46d5-90d0-2db04e8c5b3f"
      },
      "outputs": [
        {
          "output_type": "execute_result",
          "data": {
            "text/plain": [
              "True"
            ]
          },
          "metadata": {},
          "execution_count": 17
        }
      ],
      "source": [
        "bool(\"text\")"
      ]
    },
    {
      "cell_type": "code",
      "execution_count": null,
      "id": "e8ea0c4a-f816-4080-82a1-89367824a246",
      "metadata": {
        "id": "e8ea0c4a-f816-4080-82a1-89367824a246",
        "colab": {
          "base_uri": "https://localhost:8080/"
        },
        "outputId": "c6990b62-e55d-461d-f0d1-903e6e8768d1"
      },
      "outputs": [
        {
          "output_type": "execute_result",
          "data": {
            "text/plain": [
              "False"
            ]
          },
          "metadata": {},
          "execution_count": 18
        }
      ],
      "source": [
        "bool(\"\")"
      ]
    },
    {
      "cell_type": "code",
      "execution_count": null,
      "id": "dcdfabff-1934-45ad-a961-2596a7c285ab",
      "metadata": {
        "id": "dcdfabff-1934-45ad-a961-2596a7c285ab",
        "colab": {
          "base_uri": "https://localhost:8080/"
        },
        "outputId": "da5b63c1-c01a-4852-daf8-3b34f1254c02"
      },
      "outputs": [
        {
          "output_type": "execute_result",
          "data": {
            "text/plain": [
              "False"
            ]
          },
          "metadata": {},
          "execution_count": 19
        }
      ],
      "source": [
        "bool(None)"
      ]
    },
    {
      "cell_type": "markdown",
      "id": "13804067-1b75-4cb7-9d65-72910b73e254",
      "metadata": {
        "id": "13804067-1b75-4cb7-9d65-72910b73e254"
      },
      "source": [
        "Boolean values are typically used to evaluate logical statements as either true or false, and are often experienced in the context of comparisons of equality or magnitude. In order to make these comparisons, we introduce new operators to our vocabulary: \\>, \\<, \\=\\=, \\!\\=, \\&, \\| are the most common, although many others exist."
      ]
    },
    {
      "cell_type": "code",
      "execution_count": null,
      "id": "a0c296ac-6a4c-48a5-a974-223dc7ba92b3",
      "metadata": {
        "id": "a0c296ac-6a4c-48a5-a974-223dc7ba92b3",
        "colab": {
          "base_uri": "https://localhost:8080/"
        },
        "outputId": "c2a50c46-6737-4e48-a321-38ef8d2e6965"
      },
      "outputs": [
        {
          "output_type": "execute_result",
          "data": {
            "text/plain": [
              "False"
            ]
          },
          "metadata": {},
          "execution_count": 20
        }
      ],
      "source": [
        "# Testing for Equality of values\n",
        "\"text\" == \"Text\""
      ]
    },
    {
      "cell_type": "markdown",
      "id": "2bd75a2d-b8f6-4aa4-bd55-12a1c92b7359",
      "metadata": {
        "id": "2bd75a2d-b8f6-4aa4-bd55-12a1c92b7359"
      },
      "source": [
        "Note: strings are case sensitive when testing equality!"
      ]
    },
    {
      "cell_type": "code",
      "execution_count": null,
      "id": "534a3ad8-f746-47f3-972a-ea818dd2b33a",
      "metadata": {
        "id": "534a3ad8-f746-47f3-972a-ea818dd2b33a",
        "colab": {
          "base_uri": "https://localhost:8080/"
        },
        "outputId": "554df053-ca9d-439a-c736-c6d908f0f7ec"
      },
      "outputs": [
        {
          "output_type": "execute_result",
          "data": {
            "text/plain": [
              "True"
            ]
          },
          "metadata": {},
          "execution_count": 27
        }
      ],
      "source": [
        "300 == 45+255"
      ]
    },
    {
      "cell_type": "code",
      "execution_count": null,
      "id": "0596b507-c712-47f5-bdd0-7e392ff06a73",
      "metadata": {
        "id": "0596b507-c712-47f5-bdd0-7e392ff06a73"
      },
      "outputs": [],
      "source": [
        "# Testing Inequalities\n",
        "10 < 100"
      ]
    },
    {
      "cell_type": "code",
      "execution_count": null,
      "id": "a747dba4-2f81-4f97-ad36-0b7794a6deaf",
      "metadata": {
        "id": "a747dba4-2f81-4f97-ad36-0b7794a6deaf"
      },
      "outputs": [],
      "source": [
        "10 > 100"
      ]
    },
    {
      "cell_type": "code",
      "execution_count": null,
      "id": "6f4503e3-a10b-4565-899c-0b800682add9",
      "metadata": {
        "id": "6f4503e3-a10b-4565-899c-0b800682add9",
        "colab": {
          "base_uri": "https://localhost:8080/"
        },
        "outputId": "d7132d21-5eed-495b-b9c5-d7aaa4e831a1"
      },
      "outputs": [
        {
          "output_type": "execute_result",
          "data": {
            "text/plain": [
              "True"
            ]
          },
          "metadata": {},
          "execution_count": 28
        }
      ],
      "source": [
        "# We can also test for \"less than or equal to\" conditions:\n",
        "10 <= 11"
      ]
    },
    {
      "cell_type": "code",
      "execution_count": null,
      "id": "54e93933-45d9-4cce-9998-b983301078be",
      "metadata": {
        "id": "54e93933-45d9-4cce-9998-b983301078be"
      },
      "outputs": [],
      "source": [
        "11 <= 11"
      ]
    },
    {
      "cell_type": "code",
      "execution_count": null,
      "id": "dd146874-48d2-4de2-b2d3-3e3fa70ea1af",
      "metadata": {
        "id": "dd146874-48d2-4de2-b2d3-3e3fa70ea1af",
        "colab": {
          "base_uri": "https://localhost:8080/"
        },
        "outputId": "c5215dfd-0842-4bbb-f3c7-7cdf795188c0"
      },
      "outputs": [
        {
          "output_type": "execute_result",
          "data": {
            "text/plain": [
              "True"
            ]
          },
          "metadata": {},
          "execution_count": 21
        }
      ],
      "source": [
        "# Inequality\n",
        "\n",
        "42 != \"the meaning of life, the universe, and everything\""
      ]
    },
    {
      "cell_type": "code",
      "execution_count": null,
      "id": "f1d4990a-d2c6-4b89-9b9d-121dcc5b189c",
      "metadata": {
        "id": "f1d4990a-d2c6-4b89-9b9d-121dcc5b189c"
      },
      "outputs": [],
      "source": [
        "# Match multiple conditions\n",
        "\n",
        "(42 == 10 + 32) & (\"other text\" != \"other text\") # False because one condition is not met"
      ]
    },
    {
      "cell_type": "code",
      "execution_count": null,
      "id": "eabd00f1-bf56-463a-89e5-5e5c0cf0e134",
      "metadata": {
        "id": "eabd00f1-bf56-463a-89e5-5e5c0cf0e134"
      },
      "outputs": [],
      "source": [
        "(42 == 10 + 32) & (\"text\" != \"other text\")"
      ]
    },
    {
      "cell_type": "code",
      "execution_count": null,
      "id": "f235a1fc-a5b4-495a-b7b2-bc6890ac7fb7",
      "metadata": {
        "id": "f235a1fc-a5b4-495a-b7b2-bc6890ac7fb7"
      },
      "outputs": [],
      "source": [
        "# Match one or more conditions\n",
        "\n",
        "(42 == 10 + 32) | (\"other text\" != \"other text\") # False because one condition is not met"
      ]
    },
    {
      "cell_type": "code",
      "execution_count": null,
      "id": "30d177c2-4ba8-4c93-9bd6-6afff74d420c",
      "metadata": {
        "id": "30d177c2-4ba8-4c93-9bd6-6afff74d420c"
      },
      "outputs": [],
      "source": [
        "(42 == 10 + 32) | (\"text\" != \"other text\")"
      ]
    },
    {
      "cell_type": "markdown",
      "id": "3a74eaab-92ec-4883-9e48-60f85a54a5b6",
      "metadata": {
        "id": "3a74eaab-92ec-4883-9e48-60f85a54a5b6"
      },
      "source": [
        "### Solve-it!\n",
        "\n",
        "In the cell commented with `#si-sphereOrCube` (below), write a logical expression to determine if the volume of the sphere with radius 8 is greater than the volume of the cube with edge length 12. Deleting the initial comment will cause you to not earn credit.\n",
        "\n",
        "Store the solution as a variable named `sphereOrCube`. Use the cell below to practice or experiment."
      ]
    },
    {
      "cell_type": "code",
      "execution_count": 3,
      "id": "d924c375-683b-46d0-baf8-d8a6ac934df4",
      "metadata": {
        "id": "d924c375-683b-46d0-baf8-d8a6ac934df4",
        "colab": {
          "base_uri": "https://localhost:8080/"
        },
        "outputId": "1ae31585-c1ea-4251-cebc-e337d5d1b68b"
      },
      "outputs": [
        {
          "output_type": "stream",
          "name": "stdout",
          "text": [
            "True\n"
          ]
        }
      ],
      "source": [
        "#si-sphereOrCube\n",
        "import math\n",
        "pi = math.pi\n",
        "srad = 8\n",
        "crad = 12\n",
        "svol = (4/3*pi*srad**3)\n",
        "cvol = (crad**3)\n",
        "sphereOrCube = svol > cvol\n",
        "print(sphereOrCube)"
      ]
    },
    {
      "cell_type": "markdown",
      "id": "460459e4-b0e1-4f87-bb40-5c9b68765ed7",
      "metadata": {
        "id": "460459e4-b0e1-4f87-bb40-5c9b68765ed7"
      },
      "source": [
        "### Solve-it!\n",
        "\n",
        "In the cell commented with `#si-hei`, write a logical expression to determine if the string \"hei\" is the same as the string \"Hei\". Remember to be PRECISE!\n",
        "\n",
        "Store the solution as a variable named `twinStrings`. Use the cell below to practice."
      ]
    },
    {
      "cell_type": "code",
      "execution_count": null,
      "id": "e3fbd105-2151-4988-8e00-0833e5f4b447",
      "metadata": {
        "id": "e3fbd105-2151-4988-8e00-0833e5f4b447",
        "colab": {
          "base_uri": "https://localhost:8080/"
        },
        "outputId": "20d2c832-bb67-4c1f-b1b9-0263e1f0716e"
      },
      "outputs": [
        {
          "output_type": "stream",
          "name": "stdout",
          "text": [
            "False\n"
          ]
        }
      ],
      "source": [
        "#si-hei\n",
        "twinStrings = \"hei\" == \"Hei\"\n",
        "print(twinStrings)\n",
        "\n",
        "\n"
      ]
    },
    {
      "cell_type": "markdown",
      "id": "598ec8a8-7727-4566-b4e8-67b76338aa33",
      "metadata": {
        "id": "598ec8a8-7727-4566-b4e8-67b76338aa33"
      },
      "source": [
        "## Strings\n",
        "\n",
        "Strings are the data type in Python that is used to store text data, or data that does not fit into other categories and can be best represented as text in some form. This might be text values proxying for job types, it might be sentences written in a document, or it might be a single character, like \"e\". Strings are immensely valuable for creating dense data, and have many built-in features (we call them **methods**) to improve our ability to handle strings. First, we create a string by putting some characters inside of quotation marks.\n",
        "\n",
        "### Choosing Quotation Marks\n",
        "\n",
        "The quotation marks indicating the start and end of strings can be \\\" or \\'. It is worth choosing carefully, however, because the quotation marks we use to denote a string limit the characters that we can place inside. If I use \\\", then double quotes cannot be used within my string (while single quotes can!). Conversely, using \\' to start and end a string means that we cannot use single quotes (often used to mark apostrophes within contractions in the English language) inside of our string."
      ]
    },
    {
      "cell_type": "code",
      "execution_count": null,
      "id": "2e67db51-48cf-405d-ab18-11ce47d3ba08",
      "metadata": {
        "id": "2e67db51-48cf-405d-ab18-11ce47d3ba08"
      },
      "outputs": [],
      "source": [
        "\"this is a string\""
      ]
    },
    {
      "cell_type": "code",
      "execution_count": null,
      "id": "084775a0-08ac-4cf7-a81f-befdba119d1e",
      "metadata": {
        "id": "084775a0-08ac-4cf7-a81f-befdba119d1e"
      },
      "outputs": [],
      "source": [
        "\"this is a string with a 'quote' inside of it\""
      ]
    },
    {
      "cell_type": "code",
      "execution_count": null,
      "id": "9c95dddc-c1cf-4bb2-b2f8-1e9255d114e3",
      "metadata": {
        "id": "9c95dddc-c1cf-4bb2-b2f8-1e9255d114e3"
      },
      "outputs": [],
      "source": [
        "'also a string'"
      ]
    },
    {
      "cell_type": "code",
      "execution_count": null,
      "id": "8d1f5486-4b0b-4b28-95e0-146d47bcc7b7",
      "metadata": {
        "id": "8d1f5486-4b0b-4b28-95e0-146d47bcc7b7",
        "colab": {
          "base_uri": "https://localhost:8080/",
          "height": 110
        },
        "outputId": "1af8a819-2f3f-41b9-97ef-794a67a698dd"
      },
      "outputs": [
        {
          "output_type": "error",
          "ename": "SyntaxError",
          "evalue": "unterminated string literal (detected at line 3) (<ipython-input-32-5213d5ca4357>, line 3)",
          "traceback": [
            "\u001b[0;36m  File \u001b[0;32m\"<ipython-input-32-5213d5ca4357>\"\u001b[0;36m, line \u001b[0;32m3\u001b[0m\n\u001b[0;31m    'a broken string y'all'\u001b[0m\n\u001b[0m                          ^\u001b[0m\n\u001b[0;31mSyntaxError\u001b[0m\u001b[0;31m:\u001b[0m unterminated string literal (detected at line 3)\n"
          ]
        }
      ],
      "source": [
        "# a broken string where single quotes are used to mark the string and also within the string itself\n",
        "\n",
        "'a broken string y'all'"
      ]
    },
    {
      "cell_type": "markdown",
      "id": "4014aa5d-6aaf-436e-8e73-76f42bb080d2",
      "metadata": {
        "id": "4014aa5d-6aaf-436e-8e73-76f42bb080d2"
      },
      "source": [
        "Strings can typically only be used on a single line, so that I cannot do the following:"
      ]
    },
    {
      "cell_type": "code",
      "execution_count": null,
      "id": "9a5b0594-7c58-4b84-833b-2e9e63d31b2e",
      "metadata": {
        "id": "9a5b0594-7c58-4b84-833b-2e9e63d31b2e"
      },
      "outputs": [],
      "source": [
        "\"my string starts here\n",
        "\n",
        "and ends here\""
      ]
    },
    {
      "cell_type": "markdown",
      "id": "8203e125-356c-4329-a99d-112d26ea61af",
      "metadata": {
        "id": "8203e125-356c-4329-a99d-112d26ea61af"
      },
      "source": [
        "Special quotation marks can be used to create multiline strings. We use a triple quote system for this, where we mark the start or end of the string with three quotes (can be single or double):"
      ]
    },
    {
      "cell_type": "code",
      "execution_count": null,
      "id": "23abbbaa-4d01-4b67-89ad-724561e84a54",
      "metadata": {
        "id": "23abbbaa-4d01-4b67-89ad-724561e84a54"
      },
      "outputs": [],
      "source": [
        "\"\"\"my string starts here\n",
        "\n",
        "and ends here\"\"\""
      ]
    },
    {
      "cell_type": "markdown",
      "id": "09453a14-957f-4002-ab61-9b9ee4948122",
      "metadata": {
        "id": "09453a14-957f-4002-ab61-9b9ee4948122"
      },
      "source": [
        "Our string now contains some **escape characters** (\\\\n) that mark where one line ends and the next begins, allowing us to handle text that spans multiple lines. We can even use this to store information like SQL queries that have been formatted for readability!"
      ]
    },
    {
      "cell_type": "code",
      "execution_count": null,
      "id": "718cd78d-f054-4f30-ad09-534cae359aac",
      "metadata": {
        "id": "718cd78d-f054-4f30-ad09-534cae359aac",
        "colab": {
          "base_uri": "https://localhost:8080/",
          "height": 36
        },
        "outputId": "4a36614f-0a7c-4b40-eb4a-aa4b6713700b"
      },
      "outputs": [
        {
          "output_type": "execute_result",
          "data": {
            "text/plain": [
              "'\\nSELECT\\n    *\\nFROM\\n    database\\nWHERE\\n    column > 0\\n'"
            ],
            "application/vnd.google.colaboratory.intrinsic+json": {
              "type": "string"
            }
          },
          "metadata": {},
          "execution_count": 33
        }
      ],
      "source": [
        "'''\n",
        "SELECT\n",
        "    *\n",
        "FROM\n",
        "    database\n",
        "WHERE\n",
        "    column > 0\n",
        "'''"
      ]
    },
    {
      "cell_type": "markdown",
      "id": "d5333144-1794-4366-9091-9765d9b03f33",
      "metadata": {
        "id": "d5333144-1794-4366-9091-9765d9b03f33"
      },
      "source": [
        "### Operating on Strings\n",
        "\n",
        "Strings can also be modified using operators and **methods**. We are already familiar with operators, and the applicable operators for strings are \\+ and \\*. Methods are **functions**, or pre-existing code that is associated with a specific type of object. First, the operators:"
      ]
    },
    {
      "cell_type": "code",
      "execution_count": null,
      "id": "d26130d8-1dfc-41d2-87b7-a8adb56a148d",
      "metadata": {
        "id": "d26130d8-1dfc-41d2-87b7-a8adb56a148d",
        "colab": {
          "base_uri": "https://localhost:8080/",
          "height": 36
        },
        "outputId": "2c5fc31c-cd34-4907-e4bf-b0178dfb32ea"
      },
      "outputs": [
        {
          "output_type": "execute_result",
          "data": {
            "text/plain": [
              "'Add this string to another'"
            ],
            "application/vnd.google.colaboratory.intrinsic+json": {
              "type": "string"
            }
          },
          "metadata": {},
          "execution_count": 34
        }
      ],
      "source": [
        "\"Add this string\" + \" \" + \"to another\""
      ]
    },
    {
      "cell_type": "code",
      "execution_count": null,
      "id": "6663c80a-18f3-4edf-9814-13315dbb4508",
      "metadata": {
        "id": "6663c80a-18f3-4edf-9814-13315dbb4508",
        "colab": {
          "base_uri": "https://localhost:8080/",
          "height": 36
        },
        "outputId": "dc08d0b6-9602-47f4-d3f6-ffe56e83e37b"
      },
      "outputs": [
        {
          "output_type": "execute_result",
          "data": {
            "text/plain": [
              "'Repeat me!Repeat me!Repeat me!'"
            ],
            "application/vnd.google.colaboratory.intrinsic+json": {
              "type": "string"
            }
          },
          "metadata": {},
          "execution_count": 35
        }
      ],
      "source": [
        "\"Repeat me!\" * 3"
      ]
    },
    {
      "cell_type": "markdown",
      "id": "3942654a-f8a2-4601-aa7d-c1a44e00f18b",
      "metadata": {
        "id": "3942654a-f8a2-4601-aa7d-c1a44e00f18b"
      },
      "source": [
        "Methods are called by name, rather than through an operator. Below are some useful methods for strings. Please note that there are MANY others (see [https://docs.python.org/3/library/stdtypes.html#string-methods](https://docs.python.org/3/library/stdtypes.html#string-methods) for more information)"
      ]
    },
    {
      "cell_type": "code",
      "execution_count": null,
      "id": "970c8c8b-7224-4322-86f6-1dd663578c02",
      "metadata": {
        "id": "970c8c8b-7224-4322-86f6-1dd663578c02",
        "colab": {
          "base_uri": "https://localhost:8080/",
          "height": 36
        },
        "outputId": "ab0fbdab-9dc0-4235-8ae6-ba816bf980ce"
      },
      "outputs": [
        {
          "output_type": "execute_result",
          "data": {
            "text/plain": [
              "'Bononos'"
            ],
            "application/vnd.google.colaboratory.intrinsic+json": {
              "type": "string"
            }
          },
          "metadata": {},
          "execution_count": 36
        }
      ],
      "source": [
        "# Replacing characters within a string\n",
        "\n",
        "\"Bananas\".replace(\"a\", \"o\")"
      ]
    },
    {
      "cell_type": "code",
      "execution_count": null,
      "id": "41ff9865-c362-43bf-b312-60732e5e9f4f",
      "metadata": {
        "id": "41ff9865-c362-43bf-b312-60732e5e9f4f",
        "colab": {
          "base_uri": "https://localhost:8080/",
          "height": 36
        },
        "outputId": "eb188f2c-0844-4708-9935-14bad97d4cdb"
      },
      "outputs": [
        {
          "output_type": "execute_result",
          "data": {
            "text/plain": [
              "'angry words'"
            ],
            "application/vnd.google.colaboratory.intrinsic+json": {
              "type": "string"
            }
          },
          "metadata": {},
          "execution_count": 37
        }
      ],
      "source": [
        "# Converting a string to lower case\n",
        "\n",
        "\"ANGRY WORDS\".lower()"
      ]
    },
    {
      "cell_type": "code",
      "execution_count": null,
      "id": "30fda113-5c0c-4c91-9ec1-770f4273f794",
      "metadata": {
        "id": "30fda113-5c0c-4c91-9ec1-770f4273f794",
        "colab": {
          "base_uri": "https://localhost:8080/"
        },
        "outputId": "fde90ad4-1e5c-4d5b-cc8a-97403e786933"
      },
      "outputs": [
        {
          "output_type": "execute_result",
          "data": {
            "text/plain": [
              "['Make', 'me', 'into', 'many', 'strings']"
            ]
          },
          "metadata": {},
          "execution_count": 38
        }
      ],
      "source": [
        "# Break a string apart based on a designated character\n",
        "\n",
        "\"Make me into many strings\".split(\" \")"
      ]
    },
    {
      "cell_type": "code",
      "execution_count": null,
      "id": "4c6f2531-1587-4ace-96db-171bfb230848",
      "metadata": {
        "id": "4c6f2531-1587-4ace-96db-171bfb230848",
        "colab": {
          "base_uri": "https://localhost:8080/",
          "height": 36
        },
        "outputId": "aa211292-217e-4e10-fe2e-3db8c5454c09"
      },
      "outputs": [
        {
          "output_type": "execute_result",
          "data": {
            "text/plain": [
              "'too much whitespace!'"
            ],
            "application/vnd.google.colaboratory.intrinsic+json": {
              "type": "string"
            }
          },
          "metadata": {},
          "execution_count": 39
        }
      ],
      "source": [
        "\"    too much whitespace!   \".strip()"
      ]
    },
    {
      "cell_type": "markdown",
      "id": "e73c8f77-bc87-4ca5-8a5c-3d41d50bf1a7",
      "metadata": {
        "id": "e73c8f77-bc87-4ca5-8a5c-3d41d50bf1a7"
      },
      "source": [
        "### Solve-it!\n",
        "\n",
        "Complete the following sentence by using the `replace` method to replace each \"\\_\\_x\\_\\_\" string with a fitting word. Feel free to be silly!\n",
        "\n",
        "If you want to have some fun, choose words before reading the sentence. You will need (in order):\n",
        "- Adjective\n",
        "- Adjective\n",
        "- Noun\n",
        "- Noun\n",
        "- Name of an Animal\n",
        "- Name of a Game\n",
        "\n",
        "Store the resulting sentence as a variable named `myMadLib` in the cell labeled with `#si-madLib` below. Do not delete the comment."
      ]
    },
    {
      "cell_type": "code",
      "execution_count": null,
      "id": "6c541467-b241-40c6-8411-92573dbfc13a",
      "metadata": {
        "id": "6c541467-b241-40c6-8411-92573dbfc13a",
        "colab": {
          "base_uri": "https://localhost:8080/"
        },
        "outputId": "253eeb89-588c-4779-f386-054901fff10b"
      },
      "outputs": [
        {
          "output_type": "stream",
          "name": "stdout",
          "text": [
            "\n",
            "A vacation is when you take a trip to some _smelly_ place\n",
            "with your _lengthy_ family. Usually you go to some place that\n",
            "is near a(n) _heaven_ or up on a(n) _pinata_. A good vacation\n",
            "place is one where you can ride _a zebra_ or play _Bang!_.\n",
            "\n"
          ]
        }
      ],
      "source": [
        "#si-madLib\n",
        "\n",
        "myMadLib = \"\"\"\n",
        "A vacation is when you take a trip to some __1__ place\n",
        "with your __2__ family. Usually you go to some place that\n",
        "is near a(n) __3__ or up on a(n) __4__. A good vacation\n",
        "place is one where you can ride __5__ or play __6__.\n",
        "\"\"\".replace(\"_1_\",\"smelly\").replace(\"_2_\",\"lengthy\").replace(\"_3_\",\"heaven\").replace(\"_4_\",\"pinata\").replace(\"_5_\",\"a zebra\").replace(\"_6_\",\"Bang!\")\n",
        "\n",
        "print(myMadLib)\n"
      ]
    },
    {
      "cell_type": "markdown",
      "id": "cdb67faf-2187-4091-a763-47afc80a46f2",
      "metadata": {
        "id": "cdb67faf-2187-4091-a763-47afc80a46f2"
      },
      "source": [
        "## Lists\n",
        "\n",
        "Lists are the first of several data types that allow us to organize and store many different values within them. A list, as its name suggests, is an object in which a _list_ of values are stored. Each value can then be accessed by its position within the list.\n",
        "\n",
        "**REALLY IMPORTANT**: Positions in Python (and almost all programming languages) begin counting at 0, so that the first thing in a list is the 0th thing in the list. To remember this, remember that the first element in a list is ZERO elements removed from the start. We are counting how far from the start of the list we are, and the distance between the first element in a list and itself is 0!\n",
        "\n",
        "So how do we make a list? with \\[ \\] characters marking the start and end of the list, respectively, and with commas (,) in between the elements."
      ]
    },
    {
      "cell_type": "code",
      "execution_count": null,
      "id": "53e2caad-777b-4164-9311-87482d417bfb",
      "metadata": {
        "id": "53e2caad-777b-4164-9311-87482d417bfb",
        "colab": {
          "base_uri": "https://localhost:8080/"
        },
        "outputId": "7067de93-b6a7-48db-c8dd-7edf789c7ef7"
      },
      "outputs": [
        {
          "output_type": "execute_result",
          "data": {
            "text/plain": [
              "[0, 1, 2, 3, 4]"
            ]
          },
          "metadata": {},
          "execution_count": 48
        }
      ],
      "source": [
        "# Handwrite a list\n",
        "\n",
        "[ 0, 1, 2, 3, 4 ]"
      ]
    },
    {
      "cell_type": "code",
      "execution_count": null,
      "id": "a5b77d34-0f53-439f-9c27-82bf5b22672a",
      "metadata": {
        "id": "a5b77d34-0f53-439f-9c27-82bf5b22672a",
        "colab": {
          "base_uri": "https://localhost:8080/"
        },
        "outputId": "bac6d6d1-24b9-4f03-871c-6c7a48ecfdc6"
      },
      "outputs": [
        {
          "output_type": "execute_result",
          "data": {
            "text/plain": [
              "[0, 1, 2, 3, 4, 5, 6, 7, 8, 9]"
            ]
          },
          "metadata": {},
          "execution_count": 49
        }
      ],
      "source": [
        "# Use list comprehensions to make a list\n",
        "\n",
        "[x for x in range(10)]"
      ]
    },
    {
      "cell_type": "code",
      "execution_count": null,
      "id": "ac8c304a-f434-4bbe-8914-d3e63c9aa466",
      "metadata": {
        "id": "ac8c304a-f434-4bbe-8914-d3e63c9aa466",
        "colab": {
          "base_uri": "https://localhost:8080/"
        },
        "outputId": "f932c747-400a-442c-8ec8-279d6ec49ae5"
      },
      "outputs": [
        {
          "output_type": "execute_result",
          "data": {
            "text/plain": [
              "['Make', 'me', 'into', 'many', 'strings']"
            ]
          },
          "metadata": {},
          "execution_count": 50
        }
      ],
      "source": [
        "# Make a list from a string\n",
        "\n",
        "\"Make me into many strings\".split(\" \")"
      ]
    },
    {
      "cell_type": "markdown",
      "id": "31d4a5c1-ac3f-4029-b990-9178bcb8bb69",
      "metadata": {
        "id": "31d4a5c1-ac3f-4029-b990-9178bcb8bb69"
      },
      "source": [
        "### What's in a list?\n",
        "\n",
        "Anything! Lists can consist of numbers, strings, boolean values, or other lists, and more! They can contain these elements in any order or combination."
      ]
    },
    {
      "cell_type": "code",
      "execution_count": null,
      "id": "17acdb5c-99e3-4dca-81f4-0ccadec4534d",
      "metadata": {
        "id": "17acdb5c-99e3-4dca-81f4-0ccadec4534d",
        "colab": {
          "base_uri": "https://localhost:8080/"
        },
        "outputId": "56c9ee60-e73e-4218-aed3-c7b9b069e2e5"
      },
      "outputs": [
        {
          "output_type": "execute_result",
          "data": {
            "text/plain": [
              "['a number',\n",
              " 3,\n",
              " ['another list', 'with three strings', 'inside the first one!']]"
            ]
          },
          "metadata": {},
          "execution_count": 51
        }
      ],
      "source": [
        "[\"a number\", 3, [\"another list\", \"with three strings\", \"inside the first one!\"]]"
      ]
    },
    {
      "cell_type": "markdown",
      "id": "b3b32757-5a91-4d85-83dc-af6a75ac642a",
      "metadata": {
        "id": "b3b32757-5a91-4d85-83dc-af6a75ac642a"
      },
      "source": [
        "### Finding elements of a list\n",
        "\n",
        "Within a list, we can use **slicing** to find specific elements or to reference a specific position within a list. First, let's make a list to play with by **storing** a list. We can **store** a list (or any other object) in memory by assigning it a name using the \\= symbol. After we have given an object a name, we can refer to that object by its name whenever we want to make use of the object. There are some simple rules for naming things in Python:\n",
        "\n",
        "- Variable names must consist of letters, numbers, and underscores only.\n",
        "- Periods CANNOT be part of variable names (helpful advice for any recovering R users out there...)\n",
        "- Variable names typically begin with lower case letters, and CANNOT begin with numbers.\n",
        "- If you want to use multiple words in a variable name, separate the words with underscores (\\_) or by capitalizing all but the first word (called **camel casing**)\n",
        "- While you can use any word you want for a variable's name, you should avoid [reserve words](https://stackoverflow.com/questions/22864221/is-the-list-of-python-reserved-words-and-builtins-available-in-a-library) wherever possible."
      ]
    },
    {
      "cell_type": "code",
      "execution_count": null,
      "id": "8dc87eee-090b-4b56-8b7d-7f2e77185fcc",
      "metadata": {
        "id": "8dc87eee-090b-4b56-8b7d-7f2e77185fcc"
      },
      "outputs": [],
      "source": [
        "firstList = [x for x in range(10)]"
      ]
    },
    {
      "cell_type": "markdown",
      "id": "c016d0d1-affe-4655-98ad-e90ef32b9825",
      "metadata": {
        "id": "c016d0d1-affe-4655-98ad-e90ef32b9825"
      },
      "source": [
        "Now that we have created and stored a list, let's **slice** it up! When **slicing**, we will use the variable name followed by square brackets (\\[ and \\]) with values in between them to denote what we want to extract from the list. To get the first element in our stored list, we can use the following code:"
      ]
    },
    {
      "cell_type": "code",
      "execution_count": null,
      "id": "74d317ea-6533-459f-b192-4a31ffb91b57",
      "metadata": {
        "id": "74d317ea-6533-459f-b192-4a31ffb91b57",
        "colab": {
          "base_uri": "https://localhost:8080/"
        },
        "outputId": "3c93549a-1e8b-422e-9846-0b9fa39968f2"
      },
      "outputs": [
        {
          "output_type": "execute_result",
          "data": {
            "text/plain": [
              "0"
            ]
          },
          "metadata": {},
          "execution_count": 101
        }
      ],
      "source": [
        "firstList[0]"
      ]
    },
    {
      "cell_type": "markdown",
      "id": "d1a090fc-138d-423d-8b03-24b930e1851a",
      "metadata": {
        "id": "d1a090fc-138d-423d-8b03-24b930e1851a"
      },
      "source": [
        "Remember, lists are **zero-indexed** (the first thing is the 0th thing)! We can also grab more than one element at a time. Our list currently has 10 elements (you can see the whole list by removing the slicing notation from the line above and running the line again), but we might want to extract the first 5."
      ]
    },
    {
      "cell_type": "code",
      "execution_count": null,
      "id": "06bb9d01-0215-4df3-97f0-de586a7e7d83",
      "metadata": {
        "id": "06bb9d01-0215-4df3-97f0-de586a7e7d83",
        "colab": {
          "base_uri": "https://localhost:8080/"
        },
        "outputId": "17c94dc3-8934-4914-8ffb-143ffd8d7491"
      },
      "outputs": [
        {
          "output_type": "execute_result",
          "data": {
            "text/plain": [
              "[0, 1, 2, 3, 4]"
            ]
          },
          "metadata": {},
          "execution_count": 102
        }
      ],
      "source": [
        "firstList[0:5]"
      ]
    },
    {
      "cell_type": "markdown",
      "id": "ff8b366a-f48e-4f61-9a36-5aeee6705310",
      "metadata": {
        "id": "ff8b366a-f48e-4f61-9a36-5aeee6705310"
      },
      "source": [
        "When we use notation like `[0:5]`, we are explaining to python that we want all elements beginning with the 0th element, but whose position is less than 5. This will retrieve elements 0, 1, 2, 3, and 4, as you can see from our output. We can also write with fewer characters, and use equivalent notation like `[:5]`.\n",
        "\n",
        "**Question**: If `[:5]` gets everything from the start of the list until the 5th element, what do you think that `[5:]` would provide?\n"
      ]
    },
    {
      "cell_type": "code",
      "execution_count": null,
      "id": "64402f77-7a34-4f43-8209-1c34222b3fbb",
      "metadata": {
        "id": "64402f77-7a34-4f43-8209-1c34222b3fbb",
        "colab": {
          "base_uri": "https://localhost:8080/"
        },
        "outputId": "f71969be-2ceb-4821-a120-babd9825e18d"
      },
      "outputs": [
        {
          "output_type": "execute_result",
          "data": {
            "text/plain": [
              "[5, 6, 7, 8, 9]"
            ]
          },
          "metadata": {},
          "execution_count": 103
        }
      ],
      "source": [
        "firstList[5:]"
      ]
    },
    {
      "cell_type": "markdown",
      "id": "9111c5cd-11cd-40ce-90a3-d3439540bbe7",
      "metadata": {
        "id": "9111c5cd-11cd-40ce-90a3-d3439540bbe7"
      },
      "source": [
        "That's right! `[5:]` will extract the elements from the 6th position (6-1=5) to the end of the list. This comes in REALLY handy when we may not know ahead of time how many elements are in a list, but we still need to tell Python what to do. We can even do some fancy footwork, and have our slicing syntax help us grab every other element from the list, rather than all the elements!"
      ]
    },
    {
      "cell_type": "code",
      "execution_count": null,
      "id": "40fccba6-c294-45c1-9201-cbedcfaf8dbf",
      "metadata": {
        "id": "40fccba6-c294-45c1-9201-cbedcfaf8dbf",
        "colab": {
          "base_uri": "https://localhost:8080/"
        },
        "outputId": "c7aac902-5b61-460b-907e-32476f2b874f"
      },
      "outputs": [
        {
          "output_type": "execute_result",
          "data": {
            "text/plain": [
              "[0, 2, 4, 6, 8]"
            ]
          },
          "metadata": {},
          "execution_count": 104
        }
      ],
      "source": [
        "firstList[::2] # or firstList[0::2] or firstList[0:10:2] -- All three commands are equivalent for our list"
      ]
    },
    {
      "cell_type": "markdown",
      "id": "1fa29123-0f47-452f-ba7c-b0b1c3e02481",
      "metadata": {
        "id": "1fa29123-0f47-452f-ba7c-b0b1c3e02481"
      },
      "source": [
        "Pretty awesome, right?\n",
        "\n",
        "### List operators and methods\n",
        "\n",
        "Lists can use the operators \\+ and \\*, similar to strings. The \\+ operator can be used to **concatenate** two lists together, and the \\* operator can be used to repeat a list, just like with strings:"
      ]
    },
    {
      "cell_type": "code",
      "execution_count": null,
      "id": "0c524146-80aa-4f7e-9db3-389ab6797e20",
      "metadata": {
        "id": "0c524146-80aa-4f7e-9db3-389ab6797e20",
        "colab": {
          "base_uri": "https://localhost:8080/"
        },
        "outputId": "35ef23e4-d211-4b2f-ed9e-9ead3fde9e4e"
      },
      "outputs": [
        {
          "output_type": "execute_result",
          "data": {
            "text/plain": [
              "[0, 1, 2, 3, 4, 5, 6, 7, 8, 9, 'textGoesHere', 'moreTextHere']"
            ]
          },
          "metadata": {},
          "execution_count": 105
        }
      ],
      "source": [
        "firstList + ['textGoesHere', 'moreTextHere']"
      ]
    },
    {
      "cell_type": "code",
      "execution_count": null,
      "id": "d5f2f710-32a2-45fd-a98e-1bcf24393700",
      "metadata": {
        "id": "d5f2f710-32a2-45fd-a98e-1bcf24393700"
      },
      "outputs": [],
      "source": [
        "firstList*2"
      ]
    },
    {
      "cell_type": "markdown",
      "id": "313f124e-85ae-40ae-b568-1814efbd6d65",
      "metadata": {
        "id": "313f124e-85ae-40ae-b568-1814efbd6d65"
      },
      "source": [
        "Lists have many useful methods to supplement their functionality. We can use methods to sort lists, add elements, remove elements, find unique values, and much more. For a list of the built-in methods, see [https://docs.python.org/3/tutorial/datastructures.html#more-on-lists](https://docs.python.org/3/tutorial/datastructures.html#more-on-lists)."
      ]
    },
    {
      "cell_type": "code",
      "execution_count": null,
      "id": "4eb82bb0-9163-48e5-8fc5-019f49df0a69",
      "metadata": {
        "id": "4eb82bb0-9163-48e5-8fc5-019f49df0a69"
      },
      "outputs": [],
      "source": [
        "# Add an element to the end of a list - WARNING!! THIS WILL CHANGE YOUR STORED LIST!\n",
        "\n",
        "firstList.append(11)"
      ]
    },
    {
      "cell_type": "code",
      "execution_count": null,
      "id": "0b93d48a-d61e-4713-9b97-3d7543d4e62a",
      "metadata": {
        "id": "0b93d48a-d61e-4713-9b97-3d7543d4e62a",
        "colab": {
          "base_uri": "https://localhost:8080/"
        },
        "outputId": "51feaabd-cca6-42e8-b2b7-a2d5b23f183a"
      },
      "outputs": [
        {
          "output_type": "execute_result",
          "data": {
            "text/plain": [
              "11"
            ]
          },
          "metadata": {},
          "execution_count": 107
        }
      ],
      "source": [
        "# Remove an element from the end of a list - WARNING!! THIS WILL CHANGE YOUR STORED LIST!\n",
        "\n",
        "firstList.pop()"
      ]
    },
    {
      "cell_type": "code",
      "execution_count": null,
      "id": "d8a7fb17-2322-4f15-93e3-1f300bf40547",
      "metadata": {
        "id": "d8a7fb17-2322-4f15-93e3-1f300bf40547"
      },
      "outputs": [],
      "source": [
        "# Sort a list - WARNING!! THIS WILL CHANGE YOUR STORED LIST!\n",
        "\n",
        "firstList.sort()"
      ]
    },
    {
      "cell_type": "code",
      "execution_count": null,
      "id": "2031f9f0-6acd-491e-8590-bc9d3eed1030",
      "metadata": {
        "id": "2031f9f0-6acd-491e-8590-bc9d3eed1030"
      },
      "outputs": [],
      "source": [
        "# Sort a list - WARNING!! THIS WILL CHANGE YOUR STORED LIST!\n",
        "\n",
        "firstList.reverse()"
      ]
    },
    {
      "cell_type": "code",
      "execution_count": null,
      "id": "87ae3d8a-bc80-4c44-81b4-a3e158f23fd2",
      "metadata": {
        "id": "87ae3d8a-bc80-4c44-81b4-a3e158f23fd2",
        "colab": {
          "base_uri": "https://localhost:8080/"
        },
        "outputId": "3882fd4f-d24d-4774-aa5b-bc09e6fcfc60"
      },
      "outputs": [
        {
          "output_type": "execute_result",
          "data": {
            "text/plain": [
              "10"
            ]
          },
          "metadata": {},
          "execution_count": 110
        }
      ],
      "source": [
        "# Find the length of a list (or of strings, or other data types of arbitrary length)\n",
        "\n",
        "len(firstList)"
      ]
    },
    {
      "cell_type": "markdown",
      "id": "a8414c23-7521-49c1-8bc1-21aa262adbdf",
      "metadata": {
        "id": "a8414c23-7521-49c1-8bc1-21aa262adbdf"
      },
      "source": [
        "### Solve-it!\n",
        "\n",
        "In the cell labeled with the comment `#si-oddsOrEvens` (in this Github repo), write a list containing all numbers up to 50 IN ORDER, where each odd number is negative, and each even number is positive. *Hint: the [modulo operator](https://www.educative.io/edpresso/what-is-a-modulo-operator-in-python) will be really helpful!*\n",
        "\n",
        "Store the resulting list as a variable named `oddsOrEvens`. Do not delete the comment."
      ]
    },
    {
      "cell_type": "code",
      "execution_count": 1,
      "id": "d12e9b05",
      "metadata": {
        "id": "d12e9b05",
        "colab": {
          "base_uri": "https://localhost:8080/"
        },
        "outputId": "67dfffc1-28fc-4d55-82ca-03ff0b1219d7"
      },
      "outputs": [
        {
          "output_type": "stream",
          "name": "stdout",
          "text": [
            "[0, -1, 2, -3, 4, -5, 6, -7, 8, -9, 10, -11, 12, -13, 14, -15, 16, -17, 18, -19, 20, -21, 22, -23, 24, -25, 26, -27, 28, -29, 30, -31, 32, -33, 34, -35, 36, -37, 38, -39, 40, -41, 42, -43, 44, -45, 46, -47, 48, -49, 50]\n"
          ]
        }
      ],
      "source": [
        "#si-oddsOrEvens\n",
        "nom = [x for x in range (51)]\n",
        "\n",
        "#denom = 2\n",
        "#result = bool[x%denom for x in nom]\n",
        "#If result = 1, then [x*-1 for x in num], else [x*1 for x in num]\n",
        "\n",
        "scale_factor = -1\n",
        "scaled_list = []\n",
        "\n",
        "for i, num in enumerate(nom):\n",
        "\n",
        "        if i % 2 == 1:  # Check if index is odd\n",
        "\n",
        "            scaled_list.append(num * scale_factor)\n",
        "\n",
        "        else:\n",
        "\n",
        "            scaled_list.append(num)\n",
        "oddsOrEvens = scaled_list\n",
        "\n",
        "print(oddsOrEvens)\n",
        "\n",
        "\n",
        "\n",
        "\n",
        "\n",
        "\n",
        "\n"
      ]
    },
    {
      "cell_type": "code",
      "source": [],
      "metadata": {
        "id": "CoiujiUmWVW6"
      },
      "id": "CoiujiUmWVW6",
      "execution_count": null,
      "outputs": []
    },
    {
      "cell_type": "markdown",
      "id": "737d679b-50e9-4e5b-abda-b9ad2061c72b",
      "metadata": {
        "id": "737d679b-50e9-4e5b-abda-b9ad2061c72b"
      },
      "source": [
        "## Dictionaries\n",
        "\n",
        "\n",
        "\n",
        "Dictionaries are powerful objects that do many of the same things as lists, but also include their own nice set of features, making them easier to deal with than lists in many contexts. Like lists, dictionaries can store any number of elements of more or less any type. You can store numbers, strings, lists, and dictionaries within a dictionary (among many other things).\n",
        "\n",
        "Remember that a list is created to be used in order (using the position of their elements as the way to reference the information stored within the list). Dictionaries have a different structure. Every element of a dictionary is stored in what is called a **key-value pair**.\n",
        "\n",
        "**Key-value pair** refers to the fact that every element in a dictionary is assigned a name (a **key**) which is then associated with the **value** to be stored within the dictionary. When we want to find a specific element within a dictionary, we access it by providing the **key** that pairs with the value that we are interested in.\n",
        "\n",
        "Let's create a dictionary called `studentRecord`, and put some information about an imaginary student inside of it. We will store the student's name, age, and GPA."
      ]
    },
    {
      "cell_type": "code",
      "execution_count": null,
      "id": "554123cd-ab35-4290-95dc-53a3fca5fd08",
      "metadata": {
        "id": "554123cd-ab35-4290-95dc-53a3fca5fd08"
      },
      "outputs": [],
      "source": [
        "studentRecord = {\n",
        "    'name' : 'Dusty White',\n",
        "    'age' : 32,\n",
        "    'GPA' : 3.45\n",
        "}"
      ]
    },
    {
      "cell_type": "markdown",
      "id": "58061f2b-53e0-4591-84fc-cebb9ea35f8f",
      "metadata": {
        "id": "58061f2b-53e0-4591-84fc-cebb9ea35f8f"
      },
      "source": [
        "When we want to reference a single value from our dictionary, we can do so by providing the key that corresponds to the value we would like to extract within square brackets (\\[ \\])."
      ]
    },
    {
      "cell_type": "code",
      "execution_count": null,
      "id": "9ecb01cf-e6e4-4609-86bc-c4b3af0dacc9",
      "metadata": {
        "id": "9ecb01cf-e6e4-4609-86bc-c4b3af0dacc9",
        "colab": {
          "base_uri": "https://localhost:8080/"
        },
        "outputId": "f56de077-6739-42bb-d5ee-6735609f903f"
      },
      "outputs": [
        {
          "output_type": "execute_result",
          "data": {
            "text/plain": [
              "32"
            ]
          },
          "metadata": {},
          "execution_count": 78
        }
      ],
      "source": [
        "studentRecord['age']"
      ]
    },
    {
      "cell_type": "markdown",
      "id": "b591b662-a922-48d9-9015-f8f42814b7f1",
      "metadata": {
        "id": "b591b662-a922-48d9-9015-f8f42814b7f1"
      },
      "source": [
        "Let's update this record to contain a list of courses taken by the student:"
      ]
    },
    {
      "cell_type": "code",
      "execution_count": null,
      "id": "8983f628-7a72-459e-bfe1-e847191e7bba",
      "metadata": {
        "id": "8983f628-7a72-459e-bfe1-e847191e7bba"
      },
      "outputs": [],
      "source": [
        "studentRecord['courseHistory'] = [\"Econ\", \"Math\", \"Chem\"]"
      ]
    },
    {
      "cell_type": "markdown",
      "id": "56134b00-0ee7-444f-bfe0-a2c9936cda67",
      "metadata": {
        "id": "56134b00-0ee7-444f-bfe0-a2c9936cda67"
      },
      "source": [
        "Now, when we look at the entire dictionary, we will see the following:"
      ]
    },
    {
      "cell_type": "code",
      "execution_count": null,
      "id": "a7f7cd4c-5455-4379-92c4-88a6bc02575b",
      "metadata": {
        "id": "a7f7cd4c-5455-4379-92c4-88a6bc02575b",
        "colab": {
          "base_uri": "https://localhost:8080/"
        },
        "outputId": "ca56f702-9787-4c23-90a8-fc19b2d6a64f"
      },
      "outputs": [
        {
          "output_type": "execute_result",
          "data": {
            "text/plain": [
              "{'name': 'Dusty White',\n",
              " 'age': 32,\n",
              " 'GPA': 3.45,\n",
              " 'courseHistory': ['Econ', 'Math', 'Chem']}"
            ]
          },
          "metadata": {},
          "execution_count": 80
        }
      ],
      "source": [
        "studentRecord"
      ]
    },
    {
      "cell_type": "markdown",
      "id": "ea057c08-e60c-4009-8c82-623c54d956c6",
      "metadata": {
        "id": "ea057c08-e60c-4009-8c82-623c54d956c6"
      },
      "source": [
        "If we want to reference the second course taken by the student, we can use multiple levels of indexing. First, we reference the key associated with the course list, and then we reference the position of the second course within the list:"
      ]
    },
    {
      "cell_type": "code",
      "execution_count": null,
      "id": "7ba8ee06-a241-400b-87b3-05d8cd876360",
      "metadata": {
        "id": "7ba8ee06-a241-400b-87b3-05d8cd876360",
        "colab": {
          "base_uri": "https://localhost:8080/",
          "height": 36
        },
        "outputId": "fff4662b-9625-4d48-d1ec-3dd2510ef597"
      },
      "outputs": [
        {
          "output_type": "execute_result",
          "data": {
            "text/plain": [
              "'Math'"
            ],
            "application/vnd.google.colaboratory.intrinsic+json": {
              "type": "string"
            }
          },
          "metadata": {},
          "execution_count": 81
        }
      ],
      "source": [
        "studentRecord['courseHistory'][1]"
      ]
    },
    {
      "cell_type": "markdown",
      "id": "4aa88629-2cf5-472f-a729-e843b368abad",
      "metadata": {
        "id": "4aa88629-2cf5-472f-a729-e843b368abad"
      },
      "source": [
        "Notice how we can treat the `\"courseHistory\"` value in our dictionary as if it were a list, because it is actually a list stored within the dictionary. Whenever an object is stored as part of another object, when we reference the internal object, we can treat it just like we would have treated it even if it were not part of something else! This makes dictionaries and lists into VERY powerful tools, that can organize and store large amounts of related information for future retrieval!\n",
        "\n",
        "### Dictionary Methods\n",
        "\n",
        "Dictionaries, due to their structure, are typically not operated on directly using operators (like we have done with other object types). The most important methods associated with dictionaries are related to retrieving the keys of the dictionary, the values of the dictionary, and extracting key-value pairs:"
      ]
    },
    {
      "cell_type": "code",
      "execution_count": null,
      "id": "a8e650a7-1581-426f-aeb7-a98d01c0a8b6",
      "metadata": {
        "id": "a8e650a7-1581-426f-aeb7-a98d01c0a8b6",
        "colab": {
          "base_uri": "https://localhost:8080/"
        },
        "outputId": "41d53809-9393-41d4-ab36-1136838963d2"
      },
      "outputs": [
        {
          "output_type": "execute_result",
          "data": {
            "text/plain": [
              "dict_keys(['name', 'age', 'GPA', 'courseHistory'])"
            ]
          },
          "metadata": {},
          "execution_count": 82
        }
      ],
      "source": [
        "# Extract keys only\n",
        "\n",
        "studentRecord.keys()"
      ]
    },
    {
      "cell_type": "code",
      "execution_count": null,
      "id": "4cbf58c9-9c5d-4de8-ba5e-aba9ac9eeb00",
      "metadata": {
        "id": "4cbf58c9-9c5d-4de8-ba5e-aba9ac9eeb00",
        "colab": {
          "base_uri": "https://localhost:8080/"
        },
        "outputId": "96315e51-ccce-4db1-cb18-b7e1df1fe08c"
      },
      "outputs": [
        {
          "output_type": "execute_result",
          "data": {
            "text/plain": [
              "dict_values(['Dusty White', 32, 3.45, ['Econ', 'Math', 'Chem']])"
            ]
          },
          "metadata": {},
          "execution_count": 83
        }
      ],
      "source": [
        "# Extract values only\n",
        "\n",
        "studentRecord.values()"
      ]
    },
    {
      "cell_type": "code",
      "execution_count": null,
      "id": "2a63cc51-a5a0-4cfb-b46d-8fffe5718953",
      "metadata": {
        "id": "2a63cc51-a5a0-4cfb-b46d-8fffe5718953",
        "colab": {
          "base_uri": "https://localhost:8080/"
        },
        "outputId": "9f02c265-95ad-4630-8d9d-b2b49af79a58"
      },
      "outputs": [
        {
          "output_type": "execute_result",
          "data": {
            "text/plain": [
              "dict_items([('name', 'Dusty White'), ('age', 32), ('GPA', 3.45), ('courseHistory', ['Econ', 'Math', 'Chem'])])"
            ]
          },
          "metadata": {},
          "execution_count": 84
        }
      ],
      "source": [
        "# Extract key-value pairs\n",
        "\n",
        "studentRecord.items()"
      ]
    },
    {
      "cell_type": "markdown",
      "id": "8e795061-9c5a-4351-b278-5e7fb777e6a3",
      "metadata": {
        "tags": [],
        "id": "8e795061-9c5a-4351-b278-5e7fb777e6a3"
      },
      "source": [
        "### Solve-it!\n",
        "\n",
        "Create a dictionary to store information about a purchase at a clothing store that contains the following keys and values:\n",
        "- A \"name\" key that corresponds to the name of the buyer\n",
        "- An \"items\" key that corresponds to a **list** of items purchased\n",
        "- A \"discount\" key that corresponds to a **boolean** value indicating whether or not the buyer received a discount on the purchase\n",
        "- A \"price\" key that corresponds to the price that the buyer paid for the purchase as a whole.\n",
        "\n",
        "Store the resulting dictionary as a variable named `receipt` in the cell labeled `#si-receipt` below. Deleting the comment will result in you not getting credit for your work."
      ]
    },
    {
      "cell_type": "code",
      "execution_count": null,
      "id": "8d24b265-2b0b-4424-964e-071948b2ce25",
      "metadata": {
        "id": "8d24b265-2b0b-4424-964e-071948b2ce25",
        "colab": {
          "base_uri": "https://localhost:8080/"
        },
        "outputId": "611b8f9c-5f5a-43f3-ed86-83cce766efa6"
      },
      "outputs": [
        {
          "output_type": "execute_result",
          "data": {
            "text/plain": [
              "dict_items([('name', 'Angie Lovell'), ('items', ['gloves', 'hat', 'mittens', 'coat', 'scarf', 'boots']), ('discount', True), ('price', 75)])"
            ]
          },
          "metadata": {},
          "execution_count": 98
        }
      ],
      "source": [
        "#si-receipt\n",
        "\n",
        "receipt = {\n",
        "    'name' : 'Angie Lovell',\n",
        "    'items' : [\"gloves\",\"hat\",\"mittens\",\"coat\",\"scarf\",\"boots\"],\n",
        "    'discount' : True,\n",
        "    'price' : 75\n",
        "}\n",
        "\n",
        "receipt.items()\n",
        "\n",
        "\n"
      ]
    }
  ],
  "metadata": {
    "kernelspec": {
      "display_name": "Python 3 (ipykernel)",
      "language": "python",
      "name": "python3"
    },
    "language_info": {
      "codemirror_mode": {
        "name": "ipython",
        "version": 3
      },
      "file_extension": ".py",
      "mimetype": "text/x-python",
      "name": "python",
      "nbconvert_exporter": "python",
      "pygments_lexer": "ipython3",
      "version": "3.9.13"
    },
    "colab": {
      "provenance": [],
      "include_colab_link": true
    }
  },
  "nbformat": 4,
  "nbformat_minor": 5
}